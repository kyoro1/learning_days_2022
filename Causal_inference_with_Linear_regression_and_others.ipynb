{
 "cells": [
  {
   "cell_type": "markdown",
   "id": "74ecb5af",
   "metadata": {},
   "source": [
    "Reference: https://github.com/microsoft/dowhy/blob/master/docs/source/example_notebooks/dowhy_estimation_methods.ipynb"
   ]
  },
  {
   "cell_type": "markdown",
   "id": "3620910d",
   "metadata": {},
   "source": [
    "## 0. Preparation"
   ]
  },
  {
   "cell_type": "code",
   "execution_count": null,
   "id": "3d816af5",
   "metadata": {},
   "outputs": [],
   "source": [
    "#!pip install dowhy"
   ]
  },
  {
   "cell_type": "markdown",
   "id": "cae02331",
   "metadata": {},
   "source": [
    "## 1.0 librariy setting"
   ]
  },
  {
   "cell_type": "code",
   "execution_count": null,
   "id": "409ee85e",
   "metadata": {},
   "outputs": [],
   "source": [
    "import numpy as np\n",
    "import pandas as pd\n",
    "import logging\n",
    "\n",
    "import dowhy\n",
    "from dowhy import CausalModel\n",
    "import dowhy.datasets "
   ]
  },
  {
   "cell_type": "markdown",
   "id": "1d507491",
   "metadata": {},
   "source": [
    "## 1.1 Preparation data\n",
    "\n",
    "ref. https://econml.azurewebsites.net/spec/api.html"
   ]
  },
  {
   "cell_type": "code",
   "execution_count": null,
   "id": "93c3edd2",
   "metadata": {},
   "outputs": [],
   "source": [
    "data = dowhy.datasets.linear_dataset(beta=5, ## 因果効果の設定\n",
    "        num_common_causes=5,    ## 交絡因子(共変量)の数 W0, W1, .., W4\n",
    "#        num_instruments = 2,    ## 操作変数(原因への変数) Z0, Z1 \n",
    "        num_treatments=1,       ## 介入変数 v0\n",
    "        num_samples=10000,      ## Sample numbers\n",
    "        num_effect_modifiers=3, ## 交互作用の数 X0, X1, ..\n",
    "        treatment_is_binary=True,\n",
    "        outcome_is_binary=False,\n",
    "        stddev_treatment_noise=10)\n",
    "df = data[\"df\"]\n",
    "df"
   ]
  },
  {
   "cell_type": "markdown",
   "id": "6bac49a0",
   "metadata": {},
   "source": [
    "## 1.2 Confirm Average Treatment Efffect(ATE)"
   ]
  },
  {
   "cell_type": "code",
   "execution_count": null,
   "id": "e66e3035",
   "metadata": {},
   "outputs": [],
   "source": [
    "data['ate']"
   ]
  },
  {
   "cell_type": "markdown",
   "id": "36418ab9",
   "metadata": {},
   "source": [
    "## 1.3 Define Causal model"
   ]
  },
  {
   "cell_type": "code",
   "execution_count": null,
   "id": "9e788543",
   "metadata": {},
   "outputs": [],
   "source": [
    "# With graph\n",
    "model=CausalModel(\n",
    "        data = df,\n",
    "        treatment=data[\"treatment_name\"],     #v0\n",
    "        outcome=data[\"outcome_name\"],         #y\n",
    "        graph=data[\"gml_graph\"],\n",
    "        instruments=data[\"instrument_names\"]\n",
    "        )"
   ]
  },
  {
   "cell_type": "code",
   "execution_count": null,
   "id": "8a93809d",
   "metadata": {},
   "outputs": [],
   "source": [
    "model.view_model()\n",
    "#from IPython.display import Image, display\n",
    "#display(Image(filename=\"causal_model.png\"))"
   ]
  },
  {
   "cell_type": "code",
   "execution_count": null,
   "id": "8ca1487f",
   "metadata": {},
   "outputs": [],
   "source": [
    "identified_estimand = model.identify_effect(proceed_when_unidentifiable=True)\n",
    "print(identified_estimand)"
   ]
  },
  {
   "cell_type": "markdown",
   "id": "f246359c",
   "metadata": {},
   "source": [
    "## 1.5 Calculate causal effect"
   ]
  },
  {
   "cell_type": "markdown",
   "id": "e7a6fef0",
   "metadata": {},
   "source": [
    "## 1.5.1 Causal effect with linear regression"
   ]
  },
  {
   "cell_type": "code",
   "execution_count": null,
   "id": "83bedf81",
   "metadata": {},
   "outputs": [],
   "source": [
    "causal_estimate_reg = model.estimate_effect(identified_estimand,\n",
    "        method_name=\"backdoor.linear_regression\",\n",
    "        test_significance=True)\n",
    "print(causal_estimate_reg)\n",
    "print(\"Causal Estimate is \" + str(causal_estimate_reg.value))"
   ]
  },
  {
   "cell_type": "markdown",
   "id": "9f98d079",
   "metadata": {},
   "source": [
    "## 1.5.2 Causal effect with distance matching"
   ]
  },
  {
   "cell_type": "code",
   "execution_count": null,
   "id": "8e16aaf4",
   "metadata": {},
   "outputs": [],
   "source": [
    "causal_estimate_dmatch = model.estimate_effect(identified_estimand,\n",
    "                                              method_name=\"backdoor.distance_matching\",\n",
    "                                              target_units=\"att\",\n",
    "                                              method_params={'distance_metric':\"minkowski\", 'p':2})\n",
    "print(causal_estimate_dmatch)\n",
    "print(\"Causal Estimate is \" + str(causal_estimate_dmatch.value))"
   ]
  },
  {
   "cell_type": "markdown",
   "id": "70e32eae",
   "metadata": {},
   "source": [
    "## 1.5.3 Causal effect with propensity score stratification"
   ]
  },
  {
   "cell_type": "code",
   "execution_count": null,
   "id": "3b465a92",
   "metadata": {},
   "outputs": [],
   "source": [
    "causal_estimate_strat = model.estimate_effect(identified_estimand,\n",
    "                                              method_name=\"backdoor.propensity_score_stratification\",\n",
    "                                              target_units=\"att\")\n",
    "print(causal_estimate_strat)\n",
    "print(\"Causal Estimate is \" + str(causal_estimate_strat.value))"
   ]
  },
  {
   "cell_type": "markdown",
   "id": "5522252d",
   "metadata": {},
   "source": [
    "## 1.5.4 Causal effect with propensity matching"
   ]
  },
  {
   "cell_type": "code",
   "execution_count": null,
   "id": "7f1f1bb1",
   "metadata": {},
   "outputs": [],
   "source": [
    "causal_estimate_match = model.estimate_effect(identified_estimand,\n",
    "                                              method_name=\"backdoor.propensity_score_matching\",\n",
    "                                              target_units=\"atc\")\n",
    "print(causal_estimate_match)\n",
    "print(\"Causal Estimate is \" + str(causal_estimate_match.value))"
   ]
  },
  {
   "cell_type": "code",
   "execution_count": null,
   "id": "821f126d",
   "metadata": {},
   "outputs": [],
   "source": []
  }
 ],
 "metadata": {
  "kernelspec": {
   "display_name": "Python 3",
   "language": "python",
   "name": "python3"
  },
  "language_info": {
   "codemirror_mode": {
    "name": "ipython",
    "version": 3
   },
   "file_extension": ".py",
   "mimetype": "text/x-python",
   "name": "python",
   "nbconvert_exporter": "python",
   "pygments_lexer": "ipython3",
   "version": "3.8.10"
  }
 },
 "nbformat": 4,
 "nbformat_minor": 5
}
